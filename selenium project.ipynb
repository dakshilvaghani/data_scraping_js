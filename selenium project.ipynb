{
 "cells": [
  {
   "cell_type": "code",
   "execution_count": 19,
   "id": "e7f8e7b6",
   "metadata": {},
   "outputs": [
    {
     "name": "stdout",
     "output_type": "stream",
     "text": [
      "YouTube\n"
     ]
    }
   ],
   "source": [
    "#check whether driver working or not\n",
    "from selenium import webdriver\n",
    "driver=webdriver.Chrome()\n",
    "driver.get(\"https://www.youtube.com/\")\n",
    "print(driver.title)\n"
   ]
  },
  {
   "cell_type": "code",
   "execution_count": null,
   "id": "616ab277",
   "metadata": {},
   "outputs": [],
   "source": [
    "#https://in.tradingview.com/markets/cryptocurrencies/prices-all/\n",
    "#square-tab-button-huvpscfz square-tab-button-mf1FlhVw selected-huvpscfz size-small-huvpscfz size-small-mf1FlhVw"
   ]
  },
  {
   "cell_type": "code",
   "execution_count": 13,
   "id": "4eea7fa7",
   "metadata": {},
   "outputs": [],
   "source": [
    "import os\n",
    "import time\n",
    "from selenium import webdriver\n",
    "from selenium.webdriver.chrome.options import Options\n",
    "from selenium.webdriver.support.ui import WebDriverWait\n",
    "from selenium.webdriver.support import expected_conditions as EC\n",
    "from selenium.webdriver.common.action_chains import ActionChains\n",
    "from selenium.webdriver.common.by import By\n",
    "from selenium.webdriver.common.keys import Keys\n",
    "from selenium.common.exceptions import TimeoutException, NoSuchElementException,ElementNotInteractableException,ElementClickInterceptedException,StaleElementReferenceException\n",
    "from bs4 import BeautifulSoup\n",
    "import pandas as pd"
   ]
  },
  {
   "cell_type": "code",
   "execution_count": 23,
   "id": "73ba8000",
   "metadata": {},
   "outputs": [
    {
     "name": "stdout",
     "output_type": "stream",
     "text": [
      "All Crypto Prices and Market Cap on One Page — TradingView — India\n"
     ]
    }
   ],
   "source": [
    "driver = webdriver.Chrome()\n",
    "\n",
    "def main():\n",
    "    \n",
    "    driver.get(\"https://in.tradingview.com/markets/cryptocurrencies/prices-all/\")\n",
    "    print(driver.title)\n",
    "\n",
    "    with pd.ExcelWriter('TradingView_Crypto_Prices.xlsx', engine='xlsxwriter') as xlwriter:\n",
    "        categories = driver.find_elements(By.XPATH, '//span[starts-with(@class, \"tab-content-huvpscfz\")]')\n",
    "\n",
    "        for category in categories[:5]:\n",
    "            try:\n",
    "                element = driver.find_element(By.XPATH, f'//span[text()=\"{category.text}\"]')\n",
    "                if element.is_displayed():\n",
    "                    element.click()\n",
    "                    time.sleep(2)\n",
    "            except (ElementNotInteractableException,TimeoutException):\n",
    "                pass\n",
    "\n",
    "            load_more = True\n",
    "            while load_more:\n",
    "                try:\n",
    "                    load_button = WebDriverWait(driver, 25).until(\n",
    "                        EC.element_to_be_clickable((By.CLASS_NAME, 'loadButton-SFwfC2e0'))\n",
    "                    )\n",
    "                    ActionChains(driver).move_to_element(load_button).click(load_button).perform()\n",
    "                    time.sleep(1)\n",
    "                except (TimeoutException,ElementNotInteractableException, StaleElementReferenceException):\n",
    "                    load_more = False\n",
    "\n",
    "            df = pd.read_html(driver.page_source)[1]\n",
    "            df.to_excel(xlwriter, sheet_name=category.text, index=False)\n",
    "\n",
    "        driver.quit()\n",
    "\n",
    "if __name__ == '__main__':\n",
    "    main()\n"
   ]
  },
  {
   "cell_type": "code",
   "execution_count": null,
   "id": "d0bca2de",
   "metadata": {},
   "outputs": [],
   "source": []
  }
 ],
 "metadata": {
  "kernelspec": {
   "display_name": "Python 3 (ipykernel)",
   "language": "python",
   "name": "python3"
  },
  "language_info": {
   "codemirror_mode": {
    "name": "ipython",
    "version": 3
   },
   "file_extension": ".py",
   "mimetype": "text/x-python",
   "name": "python",
   "nbconvert_exporter": "python",
   "pygments_lexer": "ipython3",
   "version": "3.10.9"
  }
 },
 "nbformat": 4,
 "nbformat_minor": 5
}
